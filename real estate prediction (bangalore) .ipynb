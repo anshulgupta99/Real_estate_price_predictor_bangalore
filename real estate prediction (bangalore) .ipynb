{
    "cells": [
        {
            "cell_type": "code",
            "execution_count": 62,
            "metadata": {},
            "outputs": [],
            "source": "import pandas as pd\nimport numpy as np\n%matplotlib inline\nimport matplotlib \nfrom matplotlib import pyplot as plt\nmatplotlib.rcParams['figure.figsize']=(22,12)"
        },
        {
            "cell_type": "code",
            "execution_count": 63,
            "metadata": {},
            "outputs": [
                {
                    "data": {
                        "text/html": "<div>\n<style scoped>\n    .dataframe tbody tr th:only-of-type {\n        vertical-align: middle;\n    }\n\n    .dataframe tbody tr th {\n        vertical-align: top;\n    }\n\n    .dataframe thead th {\n        text-align: right;\n    }\n</style>\n<table border=\"1\" class=\"dataframe\">\n  <thead>\n    <tr style=\"text-align: right;\">\n      <th></th>\n      <th>area_type</th>\n      <th>availability</th>\n      <th>location</th>\n      <th>size</th>\n      <th>society</th>\n      <th>total_sqft</th>\n      <th>bath</th>\n      <th>balcony</th>\n      <th>price</th>\n    </tr>\n  </thead>\n  <tbody>\n    <tr>\n      <th>0</th>\n      <td>Super built-up  Area</td>\n      <td>19-Dec</td>\n      <td>Electronic City Phase II</td>\n      <td>2 BHK</td>\n      <td>Coomee</td>\n      <td>1056</td>\n      <td>2.0</td>\n      <td>1.0</td>\n      <td>39.07</td>\n    </tr>\n    <tr>\n      <th>1</th>\n      <td>Plot  Area</td>\n      <td>Ready To Move</td>\n      <td>Chikka Tirupathi</td>\n      <td>4 Bedroom</td>\n      <td>Theanmp</td>\n      <td>2600</td>\n      <td>5.0</td>\n      <td>3.0</td>\n      <td>120.00</td>\n    </tr>\n    <tr>\n      <th>2</th>\n      <td>Built-up  Area</td>\n      <td>Ready To Move</td>\n      <td>Uttarahalli</td>\n      <td>3 BHK</td>\n      <td>NaN</td>\n      <td>1440</td>\n      <td>2.0</td>\n      <td>3.0</td>\n      <td>62.00</td>\n    </tr>\n    <tr>\n      <th>3</th>\n      <td>Super built-up  Area</td>\n      <td>Ready To Move</td>\n      <td>Lingadheeranahalli</td>\n      <td>3 BHK</td>\n      <td>Soiewre</td>\n      <td>1521</td>\n      <td>3.0</td>\n      <td>1.0</td>\n      <td>95.00</td>\n    </tr>\n    <tr>\n      <th>4</th>\n      <td>Super built-up  Area</td>\n      <td>Ready To Move</td>\n      <td>Kothanur</td>\n      <td>2 BHK</td>\n      <td>NaN</td>\n      <td>1200</td>\n      <td>2.0</td>\n      <td>1.0</td>\n      <td>51.00</td>\n    </tr>\n  </tbody>\n</table>\n</div>",
                        "text/plain": "              area_type   availability                  location       size  \\\n0  Super built-up  Area         19-Dec  Electronic City Phase II      2 BHK   \n1            Plot  Area  Ready To Move          Chikka Tirupathi  4 Bedroom   \n2        Built-up  Area  Ready To Move               Uttarahalli      3 BHK   \n3  Super built-up  Area  Ready To Move        Lingadheeranahalli      3 BHK   \n4  Super built-up  Area  Ready To Move                  Kothanur      2 BHK   \n\n   society total_sqft  bath  balcony   price  \n0  Coomee        1056   2.0      1.0   39.07  \n1  Theanmp       2600   5.0      3.0  120.00  \n2      NaN       1440   2.0      3.0   62.00  \n3  Soiewre       1521   3.0      1.0   95.00  \n4      NaN       1200   2.0      1.0   51.00  "
                    },
                    "execution_count": 63,
                    "metadata": {},
                    "output_type": "execute_result"
                }
            ],
            "source": "# The code was removed by Watson Studio for sharing."
        },
        {
            "cell_type": "code",
            "execution_count": 64,
            "metadata": {},
            "outputs": [
                {
                    "data": {
                        "text/plain": "(13320, 9)"
                    },
                    "execution_count": 64,
                    "metadata": {},
                    "output_type": "execute_result"
                }
            ],
            "source": "df_blore.shape"
        },
        {
            "cell_type": "code",
            "execution_count": 65,
            "metadata": {},
            "outputs": [
                {
                    "data": {
                        "text/plain": "area_type\nBuilt-up  Area          2418\nCarpet  Area              87\nPlot  Area              2025\nSuper built-up  Area    8790\nName: area_type, dtype: int64"
                    },
                    "execution_count": 65,
                    "metadata": {},
                    "output_type": "execute_result"
                }
            ],
            "source": "df_blore.groupby('area_type')['area_type'].agg('count')"
        },
        {
            "cell_type": "code",
            "execution_count": 66,
            "metadata": {},
            "outputs": [
                {
                    "data": {
                        "text/html": "<div>\n<style scoped>\n    .dataframe tbody tr th:only-of-type {\n        vertical-align: middle;\n    }\n\n    .dataframe tbody tr th {\n        vertical-align: top;\n    }\n\n    .dataframe thead th {\n        text-align: right;\n    }\n</style>\n<table border=\"1\" class=\"dataframe\">\n  <thead>\n    <tr style=\"text-align: right;\">\n      <th></th>\n      <th>location</th>\n      <th>size</th>\n      <th>total_sqft</th>\n      <th>bath</th>\n      <th>balcony</th>\n      <th>price</th>\n    </tr>\n  </thead>\n  <tbody>\n    <tr>\n      <th>0</th>\n      <td>Electronic City Phase II</td>\n      <td>2 BHK</td>\n      <td>1056</td>\n      <td>2.0</td>\n      <td>1.0</td>\n      <td>39.07</td>\n    </tr>\n    <tr>\n      <th>1</th>\n      <td>Chikka Tirupathi</td>\n      <td>4 Bedroom</td>\n      <td>2600</td>\n      <td>5.0</td>\n      <td>3.0</td>\n      <td>120.00</td>\n    </tr>\n    <tr>\n      <th>2</th>\n      <td>Uttarahalli</td>\n      <td>3 BHK</td>\n      <td>1440</td>\n      <td>2.0</td>\n      <td>3.0</td>\n      <td>62.00</td>\n    </tr>\n    <tr>\n      <th>3</th>\n      <td>Lingadheeranahalli</td>\n      <td>3 BHK</td>\n      <td>1521</td>\n      <td>3.0</td>\n      <td>1.0</td>\n      <td>95.00</td>\n    </tr>\n    <tr>\n      <th>4</th>\n      <td>Kothanur</td>\n      <td>2 BHK</td>\n      <td>1200</td>\n      <td>2.0</td>\n      <td>1.0</td>\n      <td>51.00</td>\n    </tr>\n  </tbody>\n</table>\n</div>",
                        "text/plain": "                   location       size total_sqft  bath  balcony   price\n0  Electronic City Phase II      2 BHK       1056   2.0      1.0   39.07\n1          Chikka Tirupathi  4 Bedroom       2600   5.0      3.0  120.00\n2               Uttarahalli      3 BHK       1440   2.0      3.0   62.00\n3        Lingadheeranahalli      3 BHK       1521   3.0      1.0   95.00\n4                  Kothanur      2 BHK       1200   2.0      1.0   51.00"
                    },
                    "execution_count": 66,
                    "metadata": {},
                    "output_type": "execute_result"
                }
            ],
            "source": "df2=df_blore.drop(['area_type','availability','society'],axis='columns')\ndf2.head()"
        },
        {
            "cell_type": "code",
            "execution_count": 67,
            "metadata": {},
            "outputs": [
                {
                    "data": {
                        "text/plain": "location        1\nsize           16\ntotal_sqft      0\nbath           73\nbalcony       609\nprice           0\ndtype: int64"
                    },
                    "execution_count": 67,
                    "metadata": {},
                    "output_type": "execute_result"
                }
            ],
            "source": "df2.isnull().sum()"
        },
        {
            "cell_type": "code",
            "execution_count": 68,
            "metadata": {},
            "outputs": [
                {
                    "data": {
                        "text/plain": "location      0\nsize          0\ntotal_sqft    0\nbath          0\nbalcony       0\nprice         0\ndtype: int64"
                    },
                    "execution_count": 68,
                    "metadata": {},
                    "output_type": "execute_result"
                }
            ],
            "source": "df3=df2.dropna()\ndf3.isnull().sum()"
        },
        {
            "cell_type": "code",
            "execution_count": 69,
            "metadata": {},
            "outputs": [
                {
                    "data": {
                        "text/plain": "(12710, 6)"
                    },
                    "execution_count": 69,
                    "metadata": {},
                    "output_type": "execute_result"
                }
            ],
            "source": "df3.shape"
        },
        {
            "cell_type": "code",
            "execution_count": 70,
            "metadata": {},
            "outputs": [
                {
                    "data": {
                        "text/plain": "array(['2 BHK', '4 Bedroom', '3 BHK', '3 Bedroom', '1 BHK', '1 RK',\n       '4 BHK', '1 Bedroom', '2 Bedroom', '6 Bedroom', '8 Bedroom',\n       '7 Bedroom', '5 BHK', '7 BHK', '6 BHK', '5 Bedroom', '11 BHK',\n       '9 BHK', '9 Bedroom', '27 BHK', '11 Bedroom', '43 Bedroom',\n       '14 BHK', '8 BHK', '12 Bedroom', '10 Bedroom', '13 BHK'],\n      dtype=object)"
                    },
                    "execution_count": 70,
                    "metadata": {},
                    "output_type": "execute_result"
                }
            ],
            "source": "df3['size'].unique()"
        },
        {
            "cell_type": "code",
            "execution_count": 71,
            "metadata": {},
            "outputs": [
                {
                    "name": "stderr",
                    "output_type": "stream",
                    "text": "/opt/conda/envs/Python36/lib/python3.6/site-packages/ipykernel/__main__.py:1: SettingWithCopyWarning: \nA value is trying to be set on a copy of a slice from a DataFrame.\nTry using .loc[row_indexer,col_indexer] = value instead\n\nSee the caveats in the documentation: http://pandas.pydata.org/pandas-docs/stable/indexing.html#indexing-view-versus-copy\n  if __name__ == '__main__':\n"
                }
            ],
            "source": "df3['bhk']=df3['size'].apply(lambda x: int(x.split(' ')[0]))"
        },
        {
            "cell_type": "code",
            "execution_count": 72,
            "metadata": {},
            "outputs": [
                {
                    "data": {
                        "text/html": "<div>\n<style scoped>\n    .dataframe tbody tr th:only-of-type {\n        vertical-align: middle;\n    }\n\n    .dataframe tbody tr th {\n        vertical-align: top;\n    }\n\n    .dataframe thead th {\n        text-align: right;\n    }\n</style>\n<table border=\"1\" class=\"dataframe\">\n  <thead>\n    <tr style=\"text-align: right;\">\n      <th></th>\n      <th>location</th>\n      <th>size</th>\n      <th>total_sqft</th>\n      <th>bath</th>\n      <th>balcony</th>\n      <th>price</th>\n      <th>bhk</th>\n    </tr>\n  </thead>\n  <tbody>\n    <tr>\n      <th>0</th>\n      <td>Electronic City Phase II</td>\n      <td>2 BHK</td>\n      <td>1056</td>\n      <td>2.0</td>\n      <td>1.0</td>\n      <td>39.07</td>\n      <td>2</td>\n    </tr>\n    <tr>\n      <th>1</th>\n      <td>Chikka Tirupathi</td>\n      <td>4 Bedroom</td>\n      <td>2600</td>\n      <td>5.0</td>\n      <td>3.0</td>\n      <td>120.00</td>\n      <td>4</td>\n    </tr>\n    <tr>\n      <th>2</th>\n      <td>Uttarahalli</td>\n      <td>3 BHK</td>\n      <td>1440</td>\n      <td>2.0</td>\n      <td>3.0</td>\n      <td>62.00</td>\n      <td>3</td>\n    </tr>\n    <tr>\n      <th>3</th>\n      <td>Lingadheeranahalli</td>\n      <td>3 BHK</td>\n      <td>1521</td>\n      <td>3.0</td>\n      <td>1.0</td>\n      <td>95.00</td>\n      <td>3</td>\n    </tr>\n    <tr>\n      <th>4</th>\n      <td>Kothanur</td>\n      <td>2 BHK</td>\n      <td>1200</td>\n      <td>2.0</td>\n      <td>1.0</td>\n      <td>51.00</td>\n      <td>2</td>\n    </tr>\n  </tbody>\n</table>\n</div>",
                        "text/plain": "                   location       size total_sqft  bath  balcony   price  bhk\n0  Electronic City Phase II      2 BHK       1056   2.0      1.0   39.07    2\n1          Chikka Tirupathi  4 Bedroom       2600   5.0      3.0  120.00    4\n2               Uttarahalli      3 BHK       1440   2.0      3.0   62.00    3\n3        Lingadheeranahalli      3 BHK       1521   3.0      1.0   95.00    3\n4                  Kothanur      2 BHK       1200   2.0      1.0   51.00    2"
                    },
                    "execution_count": 72,
                    "metadata": {},
                    "output_type": "execute_result"
                }
            ],
            "source": "df3.head()"
        },
        {
            "cell_type": "code",
            "execution_count": 73,
            "metadata": {},
            "outputs": [
                {
                    "data": {
                        "text/plain": "array([ 2,  4,  3,  1,  6,  8,  7,  5, 11,  9, 27, 43, 14, 12, 10, 13])"
                    },
                    "execution_count": 73,
                    "metadata": {},
                    "output_type": "execute_result"
                }
            ],
            "source": "df3['bhk'].unique()"
        },
        {
            "cell_type": "code",
            "execution_count": 74,
            "metadata": {},
            "outputs": [
                {
                    "data": {
                        "text/html": "<div>\n<style scoped>\n    .dataframe tbody tr th:only-of-type {\n        vertical-align: middle;\n    }\n\n    .dataframe tbody tr th {\n        vertical-align: top;\n    }\n\n    .dataframe thead th {\n        text-align: right;\n    }\n</style>\n<table border=\"1\" class=\"dataframe\">\n  <thead>\n    <tr style=\"text-align: right;\">\n      <th></th>\n      <th>location</th>\n      <th>size</th>\n      <th>total_sqft</th>\n      <th>bath</th>\n      <th>balcony</th>\n      <th>price</th>\n      <th>bhk</th>\n    </tr>\n  </thead>\n  <tbody>\n    <tr>\n      <th>1718</th>\n      <td>2Electronic City Phase II</td>\n      <td>27 BHK</td>\n      <td>8000</td>\n      <td>27.0</td>\n      <td>0.0</td>\n      <td>230.0</td>\n      <td>27</td>\n    </tr>\n    <tr>\n      <th>4684</th>\n      <td>Munnekollal</td>\n      <td>43 Bedroom</td>\n      <td>2400</td>\n      <td>40.0</td>\n      <td>0.0</td>\n      <td>660.0</td>\n      <td>43</td>\n    </tr>\n  </tbody>\n</table>\n</div>",
                        "text/plain": "                       location        size total_sqft  bath  balcony  price  \\\n1718  2Electronic City Phase II      27 BHK       8000  27.0      0.0  230.0   \n4684                Munnekollal  43 Bedroom       2400  40.0      0.0  660.0   \n\n      bhk  \n1718   27  \n4684   43  "
                    },
                    "execution_count": 74,
                    "metadata": {},
                    "output_type": "execute_result"
                }
            ],
            "source": "df3[df3.bhk>15].head()"
        },
        {
            "cell_type": "code",
            "execution_count": 75,
            "metadata": {},
            "outputs": [
                {
                    "data": {
                        "text/plain": "array(['1056', '2600', '1440', ..., '1133 - 1384', '774', '4689'],\n      dtype=object)"
                    },
                    "execution_count": 75,
                    "metadata": {},
                    "output_type": "execute_result"
                }
            ],
            "source": "df3.total_sqft.unique()"
        },
        {
            "cell_type": "code",
            "execution_count": 76,
            "metadata": {},
            "outputs": [],
            "source": "#function to check the value type in total square feet i.e range or float check\ndef is_float(x):\n    try:\n        float(x)\n    except:\n        return False\n    return True\n"
        },
        {
            "cell_type": "code",
            "execution_count": 77,
            "metadata": {},
            "outputs": [
                {
                    "data": {
                        "text/html": "<div>\n<style scoped>\n    .dataframe tbody tr th:only-of-type {\n        vertical-align: middle;\n    }\n\n    .dataframe tbody tr th {\n        vertical-align: top;\n    }\n\n    .dataframe thead th {\n        text-align: right;\n    }\n</style>\n<table border=\"1\" class=\"dataframe\">\n  <thead>\n    <tr style=\"text-align: right;\">\n      <th></th>\n      <th>location</th>\n      <th>size</th>\n      <th>total_sqft</th>\n      <th>bath</th>\n      <th>balcony</th>\n      <th>price</th>\n      <th>bhk</th>\n    </tr>\n  </thead>\n  <tbody>\n    <tr>\n      <th>30</th>\n      <td>Yelahanka</td>\n      <td>4 BHK</td>\n      <td>2100 - 2850</td>\n      <td>4.0</td>\n      <td>0.0</td>\n      <td>186.000</td>\n      <td>4</td>\n    </tr>\n    <tr>\n      <th>122</th>\n      <td>Hebbal</td>\n      <td>4 BHK</td>\n      <td>3067 - 8156</td>\n      <td>4.0</td>\n      <td>0.0</td>\n      <td>477.000</td>\n      <td>4</td>\n    </tr>\n    <tr>\n      <th>137</th>\n      <td>8th Phase JP Nagar</td>\n      <td>2 BHK</td>\n      <td>1042 - 1105</td>\n      <td>2.0</td>\n      <td>0.0</td>\n      <td>54.005</td>\n      <td>2</td>\n    </tr>\n    <tr>\n      <th>165</th>\n      <td>Sarjapur</td>\n      <td>2 BHK</td>\n      <td>1145 - 1340</td>\n      <td>2.0</td>\n      <td>0.0</td>\n      <td>43.490</td>\n      <td>2</td>\n    </tr>\n    <tr>\n      <th>188</th>\n      <td>KR Puram</td>\n      <td>2 BHK</td>\n      <td>1015 - 1540</td>\n      <td>2.0</td>\n      <td>0.0</td>\n      <td>56.800</td>\n      <td>2</td>\n    </tr>\n  </tbody>\n</table>\n</div>",
                        "text/plain": "               location   size   total_sqft  bath  balcony    price  bhk\n30            Yelahanka  4 BHK  2100 - 2850   4.0      0.0  186.000    4\n122              Hebbal  4 BHK  3067 - 8156   4.0      0.0  477.000    4\n137  8th Phase JP Nagar  2 BHK  1042 - 1105   2.0      0.0   54.005    2\n165            Sarjapur  2 BHK  1145 - 1340   2.0      0.0   43.490    2\n188            KR Puram  2 BHK  1015 - 1540   2.0      0.0   56.800    2"
                    },
                    "execution_count": 77,
                    "metadata": {},
                    "output_type": "execute_result"
                }
            ],
            "source": "df3[~df3['total_sqft'].apply(is_float)].head()"
        },
        {
            "cell_type": "code",
            "execution_count": 78,
            "metadata": {},
            "outputs": [],
            "source": "#func to convert the total sq ft range into mean of the range \ndef convert_sqft_to_num(x):\n    tokens=x.split('-')\n    if len(tokens)==2:\n        return (float(tokens[0])+float(tokens[1]))/2\n    try:\n        return float(x)\n    except:\n        return None"
        },
        {
            "cell_type": "code",
            "execution_count": 79,
            "metadata": {},
            "outputs": [
                {
                    "data": {
                        "text/html": "<div>\n<style scoped>\n    .dataframe tbody tr th:only-of-type {\n        vertical-align: middle;\n    }\n\n    .dataframe tbody tr th {\n        vertical-align: top;\n    }\n\n    .dataframe thead th {\n        text-align: right;\n    }\n</style>\n<table border=\"1\" class=\"dataframe\">\n  <thead>\n    <tr style=\"text-align: right;\">\n      <th></th>\n      <th>location</th>\n      <th>size</th>\n      <th>total_sqft</th>\n      <th>bath</th>\n      <th>balcony</th>\n      <th>price</th>\n      <th>bhk</th>\n    </tr>\n  </thead>\n  <tbody>\n    <tr>\n      <th>0</th>\n      <td>Electronic City Phase II</td>\n      <td>2 BHK</td>\n      <td>1056.0</td>\n      <td>2.0</td>\n      <td>1.0</td>\n      <td>39.07</td>\n      <td>2</td>\n    </tr>\n    <tr>\n      <th>1</th>\n      <td>Chikka Tirupathi</td>\n      <td>4 Bedroom</td>\n      <td>2600.0</td>\n      <td>5.0</td>\n      <td>3.0</td>\n      <td>120.00</td>\n      <td>4</td>\n    </tr>\n    <tr>\n      <th>2</th>\n      <td>Uttarahalli</td>\n      <td>3 BHK</td>\n      <td>1440.0</td>\n      <td>2.0</td>\n      <td>3.0</td>\n      <td>62.00</td>\n      <td>3</td>\n    </tr>\n    <tr>\n      <th>3</th>\n      <td>Lingadheeranahalli</td>\n      <td>3 BHK</td>\n      <td>1521.0</td>\n      <td>3.0</td>\n      <td>1.0</td>\n      <td>95.00</td>\n      <td>3</td>\n    </tr>\n    <tr>\n      <th>4</th>\n      <td>Kothanur</td>\n      <td>2 BHK</td>\n      <td>1200.0</td>\n      <td>2.0</td>\n      <td>1.0</td>\n      <td>51.00</td>\n      <td>2</td>\n    </tr>\n  </tbody>\n</table>\n</div>",
                        "text/plain": "                   location       size  total_sqft  bath  balcony   price  bhk\n0  Electronic City Phase II      2 BHK      1056.0   2.0      1.0   39.07    2\n1          Chikka Tirupathi  4 Bedroom      2600.0   5.0      3.0  120.00    4\n2               Uttarahalli      3 BHK      1440.0   2.0      3.0   62.00    3\n3        Lingadheeranahalli      3 BHK      1521.0   3.0      1.0   95.00    3\n4                  Kothanur      2 BHK      1200.0   2.0      1.0   51.00    2"
                    },
                    "execution_count": 79,
                    "metadata": {},
                    "output_type": "execute_result"
                }
            ],
            "source": "df4=df3.copy()\ndf4['total_sqft']=df4['total_sqft'].apply(convert_sqft_to_num)\ndf4.head()"
        },
        {
            "cell_type": "code",
            "execution_count": 80,
            "metadata": {},
            "outputs": [
                {
                    "data": {
                        "text/plain": "array([1., 3., 2., 0.])"
                    },
                    "execution_count": 80,
                    "metadata": {},
                    "output_type": "execute_result"
                }
            ],
            "source": "df4.balcony.unique()"
        },
        {
            "cell_type": "code",
            "execution_count": null,
            "metadata": {},
            "outputs": [
                {
                    "data": {
                        "text/plain": "dtype('float64')"
                    },
                    "execution_count": 81,
                    "metadata": {},
                    "output_type": "execute_result"
                }
            ],
            "source": "df4.balcony.dtype"
        },
        {
            "cell_type": "code",
            "execution_count": null,
            "metadata": {},
            "outputs": [
                {
                    "data": {
                        "text/plain": "dtype('int64')"
                    },
                    "execution_count": 82,
                    "metadata": {},
                    "output_type": "execute_result"
                }
            ],
            "source": "df4.balcony=df4.balcony.apply(lambda x: int(x))\ndf4.balcony.dtype"
        },
        {
            "cell_type": "code",
            "execution_count": null,
            "metadata": {},
            "outputs": [
                {
                    "data": {
                        "text/html": "<div>\n<style scoped>\n    .dataframe tbody tr th:only-of-type {\n        vertical-align: middle;\n    }\n\n    .dataframe tbody tr th {\n        vertical-align: top;\n    }\n\n    .dataframe thead th {\n        text-align: right;\n    }\n</style>\n<table border=\"1\" class=\"dataframe\">\n  <thead>\n    <tr style=\"text-align: right;\">\n      <th></th>\n      <th>location</th>\n      <th>size</th>\n      <th>total_sqft</th>\n      <th>bath</th>\n      <th>balcony</th>\n      <th>price</th>\n      <th>bhk</th>\n    </tr>\n  </thead>\n  <tbody>\n    <tr>\n      <th>0</th>\n      <td>Electronic City Phase II</td>\n      <td>2 BHK</td>\n      <td>1056.0</td>\n      <td>2.0</td>\n      <td>1</td>\n      <td>39.07</td>\n      <td>2</td>\n    </tr>\n    <tr>\n      <th>1</th>\n      <td>Chikka Tirupathi</td>\n      <td>4 Bedroom</td>\n      <td>2600.0</td>\n      <td>5.0</td>\n      <td>3</td>\n      <td>120.00</td>\n      <td>4</td>\n    </tr>\n    <tr>\n      <th>2</th>\n      <td>Uttarahalli</td>\n      <td>3 BHK</td>\n      <td>1440.0</td>\n      <td>2.0</td>\n      <td>3</td>\n      <td>62.00</td>\n      <td>3</td>\n    </tr>\n    <tr>\n      <th>3</th>\n      <td>Lingadheeranahalli</td>\n      <td>3 BHK</td>\n      <td>1521.0</td>\n      <td>3.0</td>\n      <td>1</td>\n      <td>95.00</td>\n      <td>3</td>\n    </tr>\n    <tr>\n      <th>4</th>\n      <td>Kothanur</td>\n      <td>2 BHK</td>\n      <td>1200.0</td>\n      <td>2.0</td>\n      <td>1</td>\n      <td>51.00</td>\n      <td>2</td>\n    </tr>\n  </tbody>\n</table>\n</div>",
                        "text/plain": "                   location       size  total_sqft  bath  balcony   price  bhk\n0  Electronic City Phase II      2 BHK      1056.0   2.0        1   39.07    2\n1          Chikka Tirupathi  4 Bedroom      2600.0   5.0        3  120.00    4\n2               Uttarahalli      3 BHK      1440.0   2.0        3   62.00    3\n3        Lingadheeranahalli      3 BHK      1521.0   3.0        1   95.00    3\n4                  Kothanur      2 BHK      1200.0   2.0        1   51.00    2"
                    },
                    "execution_count": 83,
                    "metadata": {},
                    "output_type": "execute_result"
                }
            ],
            "source": "df4.head()"
        },
        {
            "cell_type": "code",
            "execution_count": null,
            "metadata": {},
            "outputs": [
                {
                    "data": {
                        "text/html": "<div>\n<style scoped>\n    .dataframe tbody tr th:only-of-type {\n        vertical-align: middle;\n    }\n\n    .dataframe tbody tr th {\n        vertical-align: top;\n    }\n\n    .dataframe thead th {\n        text-align: right;\n    }\n</style>\n<table border=\"1\" class=\"dataframe\">\n  <thead>\n    <tr style=\"text-align: right;\">\n      <th></th>\n      <th>location</th>\n      <th>size</th>\n      <th>total_sqft</th>\n      <th>bath</th>\n      <th>balcony</th>\n      <th>price</th>\n      <th>bhk</th>\n      <th>price_per_sqft</th>\n    </tr>\n  </thead>\n  <tbody>\n    <tr>\n      <th>0</th>\n      <td>Electronic City Phase II</td>\n      <td>2 BHK</td>\n      <td>1056.0</td>\n      <td>2.0</td>\n      <td>1</td>\n      <td>39.07</td>\n      <td>2</td>\n      <td>3699.810606</td>\n    </tr>\n    <tr>\n      <th>1</th>\n      <td>Chikka Tirupathi</td>\n      <td>4 Bedroom</td>\n      <td>2600.0</td>\n      <td>5.0</td>\n      <td>3</td>\n      <td>120.00</td>\n      <td>4</td>\n      <td>4615.384615</td>\n    </tr>\n    <tr>\n      <th>2</th>\n      <td>Uttarahalli</td>\n      <td>3 BHK</td>\n      <td>1440.0</td>\n      <td>2.0</td>\n      <td>3</td>\n      <td>62.00</td>\n      <td>3</td>\n      <td>4305.555556</td>\n    </tr>\n    <tr>\n      <th>3</th>\n      <td>Lingadheeranahalli</td>\n      <td>3 BHK</td>\n      <td>1521.0</td>\n      <td>3.0</td>\n      <td>1</td>\n      <td>95.00</td>\n      <td>3</td>\n      <td>6245.890861</td>\n    </tr>\n    <tr>\n      <th>4</th>\n      <td>Kothanur</td>\n      <td>2 BHK</td>\n      <td>1200.0</td>\n      <td>2.0</td>\n      <td>1</td>\n      <td>51.00</td>\n      <td>2</td>\n      <td>4250.000000</td>\n    </tr>\n  </tbody>\n</table>\n</div>",
                        "text/plain": "                   location       size  total_sqft  bath  balcony   price  \\\n0  Electronic City Phase II      2 BHK      1056.0   2.0        1   39.07   \n1          Chikka Tirupathi  4 Bedroom      2600.0   5.0        3  120.00   \n2               Uttarahalli      3 BHK      1440.0   2.0        3   62.00   \n3        Lingadheeranahalli      3 BHK      1521.0   3.0        1   95.00   \n4                  Kothanur      2 BHK      1200.0   2.0        1   51.00   \n\n   bhk  price_per_sqft  \n0    2     3699.810606  \n1    4     4615.384615  \n2    3     4305.555556  \n3    3     6245.890861  \n4    2     4250.000000  "
                    },
                    "execution_count": 84,
                    "metadata": {},
                    "output_type": "execute_result"
                }
            ],
            "source": "df4['price_per_sqft']=df4['price']*100000/df4['total_sqft'] # price is in lakh rupees\ndf4.head() "
        },
        {
            "cell_type": "code",
            "execution_count": null,
            "metadata": {},
            "outputs": [
                {
                    "data": {
                        "text/plain": "1265"
                    },
                    "execution_count": 85,
                    "metadata": {},
                    "output_type": "execute_result"
                }
            ],
            "source": "len(df4['location'].unique())"
        },
        {
            "cell_type": "code",
            "execution_count": null,
            "metadata": {
                "scrolled": true
            },
            "outputs": [
                {
                    "data": {
                        "text/plain": "location\nWhitefield                                      515\nSarjapur  Road                                  372\nElectronic City                                 302\nKanakpura Road                                  261\nThanisandra                                     234\nYelahanka                                       206\nUttarahalli                                     186\nHebbal                                          173\nRaja Rajeshwari Nagar                           168\nMarathahalli                                    164\n7th Phase JP Nagar                              147\nBannerghatta Road                               144\nHennur Road                                     142\nHaralur Road                                    135\nElectronic City Phase II                        130\nRajaji Nagar                                     99\nChandapura                                       98\nBellandur                                        91\nHoodi                                            86\nElectronics City Phase 1                         86\nKR Puram                                         85\nBegur Road                                       83\nSarjapur                                         81\nYeshwanthpur                                     78\nKasavanhalli                                     77\nHarlur                                           76\nBanashankari                                     74\nHosa Road                                        72\nRamamurthy Nagar                                 72\nKengeri                                          71\n                                               ... \nKalkere Channasandra                              1\nKalhalli                                          1\nKalasipalya                                       1\nKadarenahalli                                     1\nKPC Layout                                        1\nKHB Colony Extension                              1\nKG Halli                                          1\nKAMAKIYA                                          1\nKathriguppe IV Phase                              1\nKenchanehalli R R Nagar                           1\nM.G Road                                          1\nKengeri Satellite Town ( BDA SITE)                1\nLaxminarayana Layout                              1\nLalbagh Road                                      1\nLakshmipura Vidyaanyapura                         1\nLakshminarayanapura, Electronic City Phase 2      1\nLakkasandra Extension                             1\nLakkasandra                                       1\nLIC Colony                                        1\nKuvempu Layout                                    1\nKumbhena Agrahara                                 1\nKumbalgodu                                        1\nKudlu Village,                                    1\nKoppa                                             1\nKonappana Agrahara                                1\nKodanda Reddy Layout                              1\nKirloskar layout, Basaveshwarnagar                1\nKengeri Satellite Town Stage II                   1\nKengeri Satellite Town KHB Apartment              1\n1 Annasandrapalya                                 1\nName: location, Length: 1254, dtype: int64"
                    },
                    "execution_count": 86,
                    "metadata": {},
                    "output_type": "execute_result"
                }
            ],
            "source": "# high no of locations and thus if we do one hot encoding afterward we'll get more than 1200 columns added to the df \n# which is very large and unappropriate, also called as high dimensionality problem\ndf4['location']=df4['location'].apply(lambda x: x.strip()) # will remove any leading or ending white spaces\nstat=df4.groupby('location')['location'].agg('count').sort_values(ascending=False)\nstat\n"
        },
        {
            "cell_type": "code",
            "execution_count": null,
            "metadata": {},
            "outputs": [
                {
                    "data": {
                        "text/plain": "1158"
                    },
                    "execution_count": 87,
                    "metadata": {},
                    "output_type": "execute_result"
                }
            ],
            "source": "len(stat[stat<30]) # locations which have less than 30 datapoints "
        },
        {
            "cell_type": "code",
            "execution_count": null,
            "metadata": {},
            "outputs": [],
            "source": "oth=stat[stat<30]"
        },
        {
            "cell_type": "code",
            "execution_count": null,
            "metadata": {},
            "outputs": [
                {
                    "data": {
                        "text/plain": "97"
                    },
                    "execution_count": 89,
                    "metadata": {},
                    "output_type": "execute_result"
                }
            ],
            "source": "#these locations will be categorised into 'other' thus reducing dimensionality\ndf4['location']=df4['location'].apply(lambda x:'other' if x in oth else x)\nlen(df4['location'].unique())"
        },
        {
            "cell_type": "code",
            "execution_count": null,
            "metadata": {},
            "outputs": [
                {
                    "data": {
                        "text/html": "<div>\n<style scoped>\n    .dataframe tbody tr th:only-of-type {\n        vertical-align: middle;\n    }\n\n    .dataframe tbody tr th {\n        vertical-align: top;\n    }\n\n    .dataframe thead th {\n        text-align: right;\n    }\n</style>\n<table border=\"1\" class=\"dataframe\">\n  <thead>\n    <tr style=\"text-align: right;\">\n      <th></th>\n      <th>location</th>\n      <th>size</th>\n      <th>total_sqft</th>\n      <th>bath</th>\n      <th>balcony</th>\n      <th>price</th>\n      <th>bhk</th>\n      <th>price_per_sqft</th>\n    </tr>\n  </thead>\n  <tbody>\n    <tr>\n      <th>0</th>\n      <td>Electronic City Phase II</td>\n      <td>2 BHK</td>\n      <td>1056.0</td>\n      <td>2.0</td>\n      <td>1</td>\n      <td>39.07</td>\n      <td>2</td>\n      <td>3699.810606</td>\n    </tr>\n    <tr>\n      <th>1</th>\n      <td>other</td>\n      <td>4 Bedroom</td>\n      <td>2600.0</td>\n      <td>5.0</td>\n      <td>3</td>\n      <td>120.00</td>\n      <td>4</td>\n      <td>4615.384615</td>\n    </tr>\n    <tr>\n      <th>2</th>\n      <td>Uttarahalli</td>\n      <td>3 BHK</td>\n      <td>1440.0</td>\n      <td>2.0</td>\n      <td>3</td>\n      <td>62.00</td>\n      <td>3</td>\n      <td>4305.555556</td>\n    </tr>\n    <tr>\n      <th>3</th>\n      <td>other</td>\n      <td>3 BHK</td>\n      <td>1521.0</td>\n      <td>3.0</td>\n      <td>1</td>\n      <td>95.00</td>\n      <td>3</td>\n      <td>6245.890861</td>\n    </tr>\n    <tr>\n      <th>4</th>\n      <td>Kothanur</td>\n      <td>2 BHK</td>\n      <td>1200.0</td>\n      <td>2.0</td>\n      <td>1</td>\n      <td>51.00</td>\n      <td>2</td>\n      <td>4250.000000</td>\n    </tr>\n  </tbody>\n</table>\n</div>",
                        "text/plain": "                   location       size  total_sqft  bath  balcony   price  \\\n0  Electronic City Phase II      2 BHK      1056.0   2.0        1   39.07   \n1                     other  4 Bedroom      2600.0   5.0        3  120.00   \n2               Uttarahalli      3 BHK      1440.0   2.0        3   62.00   \n3                     other      3 BHK      1521.0   3.0        1   95.00   \n4                  Kothanur      2 BHK      1200.0   2.0        1   51.00   \n\n   bhk  price_per_sqft  \n0    2     3699.810606  \n1    4     4615.384615  \n2    3     4305.555556  \n3    3     6245.890861  \n4    2     4250.000000  "
                    },
                    "execution_count": 90,
                    "metadata": {},
                    "output_type": "execute_result"
                }
            ],
            "source": "df4.head()"
        },
        {
            "cell_type": "markdown",
            "metadata": {},
            "source": "### OUTLIER DETECTION AND THEIR REMOVAL"
        },
        {
            "cell_type": "code",
            "execution_count": null,
            "metadata": {},
            "outputs": [
                {
                    "data": {
                        "text/plain": "(12710, 8)"
                    },
                    "execution_count": 91,
                    "metadata": {},
                    "output_type": "execute_result"
                }
            ],
            "source": "df4.shape"
        },
        {
            "cell_type": "code",
            "execution_count": null,
            "metadata": {},
            "outputs": [
                {
                    "data": {
                        "text/html": "<div>\n<style scoped>\n    .dataframe tbody tr th:only-of-type {\n        vertical-align: middle;\n    }\n\n    .dataframe tbody tr th {\n        vertical-align: top;\n    }\n\n    .dataframe thead th {\n        text-align: right;\n    }\n</style>\n<table border=\"1\" class=\"dataframe\">\n  <thead>\n    <tr style=\"text-align: right;\">\n      <th></th>\n      <th>location</th>\n      <th>size</th>\n      <th>total_sqft</th>\n      <th>bath</th>\n      <th>balcony</th>\n      <th>price</th>\n      <th>bhk</th>\n      <th>price_per_sqft</th>\n    </tr>\n  </thead>\n  <tbody>\n    <tr>\n      <th>0</th>\n      <td>Electronic City Phase II</td>\n      <td>2 BHK</td>\n      <td>1056.0</td>\n      <td>2.0</td>\n      <td>1</td>\n      <td>39.07</td>\n      <td>2</td>\n      <td>3699.810606</td>\n    </tr>\n    <tr>\n      <th>1</th>\n      <td>other</td>\n      <td>4 Bedroom</td>\n      <td>2600.0</td>\n      <td>5.0</td>\n      <td>3</td>\n      <td>120.00</td>\n      <td>4</td>\n      <td>4615.384615</td>\n    </tr>\n    <tr>\n      <th>2</th>\n      <td>Uttarahalli</td>\n      <td>3 BHK</td>\n      <td>1440.0</td>\n      <td>2.0</td>\n      <td>3</td>\n      <td>62.00</td>\n      <td>3</td>\n      <td>4305.555556</td>\n    </tr>\n    <tr>\n      <th>3</th>\n      <td>other</td>\n      <td>3 BHK</td>\n      <td>1521.0</td>\n      <td>3.0</td>\n      <td>1</td>\n      <td>95.00</td>\n      <td>3</td>\n      <td>6245.890861</td>\n    </tr>\n    <tr>\n      <th>4</th>\n      <td>Kothanur</td>\n      <td>2 BHK</td>\n      <td>1200.0</td>\n      <td>2.0</td>\n      <td>1</td>\n      <td>51.00</td>\n      <td>2</td>\n      <td>4250.000000</td>\n    </tr>\n  </tbody>\n</table>\n</div>",
                        "text/plain": "                   location       size  total_sqft  bath  balcony   price  \\\n0  Electronic City Phase II      2 BHK      1056.0   2.0        1   39.07   \n1                     other  4 Bedroom      2600.0   5.0        3  120.00   \n2               Uttarahalli      3 BHK      1440.0   2.0        3   62.00   \n3                     other      3 BHK      1521.0   3.0        1   95.00   \n4                  Kothanur      2 BHK      1200.0   2.0        1   51.00   \n\n   bhk  price_per_sqft  \n0    2     3699.810606  \n1    4     4615.384615  \n2    3     4305.555556  \n3    3     6245.890861  \n4    2     4250.000000  "
                    },
                    "execution_count": 92,
                    "metadata": {},
                    "output_type": "execute_result"
                }
            ],
            "source": "df4=df4[~(df4['total_sqft']/df4.bhk<350)] # removing those data points which have per bedroom area less than 350 i.e homes with 1000 total sqft and \n# 6 bedrooms will have rooms extremely small or they are error values(outlier) and thus must be removed\ndf4.head() "
        },
        {
            "cell_type": "code",
            "execution_count": null,
            "metadata": {},
            "outputs": [
                {
                    "data": {
                        "text/plain": "(11728, 8)"
                    },
                    "execution_count": 93,
                    "metadata": {},
                    "output_type": "execute_result"
                }
            ],
            "source": "df4.shape"
        },
        {
            "cell_type": "code",
            "execution_count": null,
            "metadata": {
                "scrolled": true
            },
            "outputs": [
                {
                    "data": {
                        "text/plain": "count     11686.000000\nmean       6097.109904\nstd        3859.638681\nmin         267.829813\n25%        4190.260476\n50%        5219.868416\n75%        6722.689076\nmax      176470.588235\nName: price_per_sqft, dtype: float64"
                    },
                    "execution_count": 94,
                    "metadata": {},
                    "output_type": "execute_result"
                }
            ],
            "source": "df4.price_per_sqft.describe()"
        },
        {
            "cell_type": "code",
            "execution_count": null,
            "metadata": {},
            "outputs": [],
            "source": "# function to remove outliers in price per sqft i.e removing very low and very high price per sqft values \ndef remove_outlier(df):\n    dfout=pd.DataFrame()\n    for key,subdf in df.groupby('location'):\n        m=np.mean(subdf.price_per_sqft)\n        st=np.std(subdf.price_per_sqft)\n        reducedf=subdf[(subdf.price_per_sqft>(m-st)) & (subdf.price_per_sqft<(m+st))]\n        dfout=pd.concat([dfout,reducedf],ignore_index=True)\n    return dfout\n"
        },
        {
            "cell_type": "code",
            "execution_count": null,
            "metadata": {},
            "outputs": [],
            "source": "dfnew=remove_outlier(df4)\ndfnew.head()"
        },
        {
            "cell_type": "code",
            "execution_count": null,
            "metadata": {},
            "outputs": [],
            "source": "dfnew.shape"
        },
        {
            "cell_type": "code",
            "execution_count": null,
            "metadata": {},
            "outputs": [],
            "source": "def plot_scatter(df,location):\n    bhk2=df[(df.location==location) & (df.bhk==2)]\n    bhk3=df[(df.location==location) & (df.bhk==3)]\n    plt.figure(figsize=(22,11))\n    plt.scatter(bhk2.total_sqft,bhk2.price,color='red',label='2 BHK')\n    plt.scatter(bhk3.total_sqft,bhk3.price,color='green',label='3 BHK')\n    plt.xlabel('Total square feet')\n    plt.ylabel('price')\n    plt.title(location)\n    plt.legend()"
        },
        {
            "cell_type": "code",
            "execution_count": null,
            "metadata": {},
            "outputs": [],
            "source": "plot_scatter(dfnew,\"Whitefield\")"
        },
        {
            "cell_type": "markdown",
            "metadata": {},
            "source": "#### Making a function which removes those properties with same location but having more prices and less number of bedrooms i.e 2 bhk properties which have higher price than 3 bhk properties in same location"
        },
        {
            "cell_type": "markdown",
            "metadata": {},
            "source": "#### Building a dictionary of statistics per bhk (for a chosen location)"
        },
        {
            "cell_type": "code",
            "execution_count": null,
            "metadata": {},
            "outputs": [],
            "source": "def rem_bhkout(df):\n    exclude_indices=np.array([])\n    for location,locdf in df.groupby('location'):\n        bhk_stat={}\n        for bhk,bhk_df in locdf.groupby('bhk'):\n            bhk_stat[bhk]={\n                'mean': np.mean(bhk_df.price_per_sqft),\n                'std': np.std(bhk_df.price_per_sqft),\n                'count': bhk_df.shape[0]\n            }\n        for bhk,bhk_df in locdf.groupby('bhk'):\n            stats=bhk_stat.get(bhk-1)\n            if stats and stats['count']>5:\n                exclude_indices=np.append(exclude_indices,bhk_df[bhk_df.price_per_sqft<(stats['mean'])].index.values)\n    return df.drop(exclude_indices,axis='index')"
        },
        {
            "cell_type": "code",
            "execution_count": null,
            "metadata": {},
            "outputs": [],
            "source": "dfdash=rem_bhkout(dfnew)"
        },
        {
            "cell_type": "markdown",
            "metadata": {},
            "source": "again calling function to get scatter plot to see if the outliers are removed or not "
        },
        {
            "cell_type": "code",
            "execution_count": null,
            "metadata": {},
            "outputs": [],
            "source": "plot_scatter(dfdash,'Whitefield')"
        },
        {
            "cell_type": "markdown",
            "metadata": {},
            "source": "MOST OF THE DATAPOINTS (3BHK) WHICH WERE HAVING PRICE EQUAL OR LESS THAN 2BHK DATA POINTS ARE REMOVED ,REDUCING THE AMOUNT OF ABNORMALITIES "
        },
        {
            "cell_type": "code",
            "execution_count": null,
            "metadata": {},
            "outputs": [],
            "source": "dfdash.bath.unique()"
        },
        {
            "cell_type": "code",
            "execution_count": null,
            "metadata": {},
            "outputs": [],
            "source": "dfdash.shape"
        },
        {
            "cell_type": "code",
            "execution_count": null,
            "metadata": {},
            "outputs": [],
            "source": "dfdash[dfdash.bath>7]"
        },
        {
            "cell_type": "markdown",
            "metadata": {},
            "source": "index=6557 HERE NUMBER OF BATHROOMS ARE MORE THAN THE NUMBER OF BEDROOMS WHICH SEEMS LIKE AN ABNORMALITY AND THUS WE REMOVE THOSE DATAPOINTS WHICH HAVE NO. OF BATHROOMS>(NO. OF BEDROOMS+1)"
        },
        {
            "cell_type": "code",
            "execution_count": null,
            "metadata": {},
            "outputs": [],
            "source": "plt.hist(dfdash.bath,rwidth=0.8)\nplt.xlabel('Number of bathrooms')\nplt.ylabel('Count')\nplt.title('Distribution of no of bathrooms')"
        },
        {
            "cell_type": "code",
            "execution_count": null,
            "metadata": {},
            "outputs": [],
            "source": "dfd=dfdash[dfdash.bath<dfdash.bhk+1]\ndfd.shape"
        },
        {
            "cell_type": "code",
            "execution_count": null,
            "metadata": {},
            "outputs": [],
            "source": "dfd.balcony.unique()"
        },
        {
            "cell_type": "code",
            "execution_count": null,
            "metadata": {},
            "outputs": [],
            "source": "plt.hist(dfd.balcony,rwidth=0.8)\nplt.xlabel('Number of balconies')\nplt.ylabel('Count')\nplt.title('Distribution of no of balconies')"
        },
        {
            "cell_type": "code",
            "execution_count": null,
            "metadata": {},
            "outputs": [],
            "source": "dfd[dfd.balcony>dfd.bhk].head()"
        },
        {
            "cell_type": "markdown",
            "metadata": {},
            "source": "SINCE USUALLY NUMBER OF BALCONIES IN A HOUSE ARE NOT GREATER THAN NO OF BEDROOMS ,THESE ABNORMALITIES MUST BE REMOVED"
        },
        {
            "cell_type": "code",
            "execution_count": null,
            "metadata": {},
            "outputs": [],
            "source": "dfg=dfd[dfd.balcony<=dfd.bhk]\ndfg.shape"
        },
        {
            "cell_type": "code",
            "execution_count": null,
            "metadata": {},
            "outputs": [],
            "source": "dfg.head()"
        },
        {
            "cell_type": "markdown",
            "metadata": {},
            "source": "### ML MODELLING "
        },
        {
            "cell_type": "markdown",
            "metadata": {},
            "source": "##### DROPPING SIZE AND PRICE_PER_SQFT FEATURES FROM THE DATAFRAME"
        },
        {
            "cell_type": "code",
            "execution_count": null,
            "metadata": {},
            "outputs": [],
            "source": "dfg.drop(['size','price_per_sqft'],axis='columns',inplace=True)\ndfg.head()"
        },
        {
            "cell_type": "code",
            "execution_count": null,
            "metadata": {},
            "outputs": [],
            "source": "dfg.location.unique().shape"
        },
        {
            "cell_type": "markdown",
            "metadata": {},
            "source": "##### THUS WHEN WE DO ONE HOT ENCODING ON THE LOCATION COLUMN WE GET 97 MORE COLUMNS"
        },
        {
            "cell_type": "code",
            "execution_count": null,
            "metadata": {},
            "outputs": [],
            "source": "oh_encode=pd.get_dummies(dfg.location)\noh_encode.head()"
        },
        {
            "cell_type": "code",
            "execution_count": null,
            "metadata": {},
            "outputs": [],
            "source": "dfconcat=pd.concat([dfg,oh_encode.drop(['other'],axis='columns')],axis='columns') # dropping one column to avoid dummy variable trap\ndfconcat.head()"
        },
        {
            "cell_type": "code",
            "execution_count": null,
            "metadata": {},
            "outputs": [],
            "source": "dfconcat.shape"
        },
        {
            "cell_type": "code",
            "execution_count": null,
            "metadata": {},
            "outputs": [],
            "source": "X=dfconcat.drop(['price','location'],axis='columns') #independent variables into X\nX.head()\n"
        },
        {
            "cell_type": "code",
            "execution_count": null,
            "metadata": {},
            "outputs": [],
            "source": "y=dfconcat.price # dependent variable into y \ny.head()"
        },
        {
            "cell_type": "code",
            "execution_count": null,
            "metadata": {},
            "outputs": [],
            "source": "from sklearn.model_selection import train_test_split\nX_train,X_test,y_train,y_test=train_test_split(X,y,test_size=0.5,random_state=9)"
        },
        {
            "cell_type": "code",
            "execution_count": null,
            "metadata": {},
            "outputs": [],
            "source": "from sklearn.linear_model import LinearRegression\nob=LinearRegression()\nob.fit(X_train,y_train)\nob.score(X_test,y_test)"
        },
        {
            "cell_type": "code",
            "execution_count": null,
            "metadata": {},
            "outputs": [],
            "source": "# k-fold cross validaton - estimating the skill of model on new data \nfrom sklearn.model_selection import ShuffleSplit\nfrom sklearn.model_selection import cross_val_score\nkfolds=ShuffleSplit(n_splits=5,test_size=0.5,random_state=0)\ncross_val_score(ob,X,y,cv=kfolds)"
        },
        {
            "cell_type": "code",
            "execution_count": 123,
            "metadata": {},
            "outputs": [
                {
                    "data": {
                        "text/plain": "Index(['total_sqft', 'bath', 'balcony', 'bhk', '5th Phase JP Nagar',\n       '7th Phase JP Nagar', '8th Phase JP Nagar', '9th Phase JP Nagar',\n       'Akshaya Nagar', 'Ambedkar Nagar', 'Ananth Nagar', 'Anekal', 'Attibele',\n       'Balagere', 'Banashankari', 'Bannerghatta Road', 'Basavangudi',\n       'Begur Road', 'Bellandur', 'Bhoganhalli', 'Bisuvanahalli',\n       'Bommanahalli', 'Bommasandra', 'Brookefield', 'Budigere',\n       'CV Raman Nagar', 'Chandapura', 'Channasandra', 'Chikkalasandra',\n       'Devanahalli', 'Doddathoguru', 'Electronic City',\n       'Electronic City Phase II', 'Electronics City Phase 1', 'Frazer Town',\n       'Gottigere', 'Green Glen Layout', 'HSR Layout', 'Haralur Road',\n       'Harlur', 'Hebbal', 'Hegde Nagar', 'Hennur', 'Hennur Road', 'Hoodi',\n       'Horamavu Agara', 'Hormavu', 'Hosa Road', 'Hosakerehalli', 'Hosur Road',\n       'Hulimavu', 'Indira Nagar', 'JP Nagar', 'Jakkur', 'Jalahalli', 'Jigani',\n       'KR Puram', 'Kadugodi', 'Kaggadasapura', 'Kalena Agrahara',\n       'Kanakapura', 'Kanakpura Road', 'Kasavanhalli', 'Kengeri',\n       'Kengeri Satellite Town', 'Koramangala', 'Kothanur', 'Kudlu Gate',\n       'Kundalahalli', 'Lakshminarayana Pura', 'Malleshwaram', 'Marathahalli',\n       'Mysore Road', 'Nagarbhavi', 'Old Madras Road', 'Panathur',\n       'R.T. Nagar', 'Rachenahalli', 'Raja Rajeshwari Nagar', 'Rajaji Nagar',\n       'Ramagondanahalli', 'Ramamurthy Nagar', 'Sahakara Nagar', 'Sarjapur',\n       'Sarjapur  Road', 'Subramanyapura', 'TC Palaya', 'Talaghattapura',\n       'Thanisandra', 'Thigalarapalya', 'Tumkur Road', 'Uttarahalli',\n       'Varthur', 'Vidyaranyapura', 'Vijayanagar', 'Vittasandra', 'Whitefield',\n       'Yelahanka', 'Yelahanka New Town', 'Yeshwanthpur'],\n      dtype='object')"
                    },
                    "execution_count": 123,
                    "metadata": {},
                    "output_type": "execute_result"
                }
            ],
            "source": "X.columns"
        },
        {
            "cell_type": "code",
            "execution_count": 124,
            "metadata": {},
            "outputs": [],
            "source": "def predict_price(location,sqft,bath,balcony,bhk):\n    loc_index=np.where(X.columns==location)[0][0]\n    x=np.zeros(len(X.columns))\n    x[0]=sqft\n    x[1]=bath\n    x[2]=balcony\n    x[3]=bhk\n    if loc_index>=0:\n        x[loc_index]=1\n    return ob.predict([x])[0]"
        },
        {
            "cell_type": "code",
            "execution_count": 136,
            "metadata": {},
            "outputs": [
                {
                    "data": {
                        "text/plain": "163.2317612497884"
                    },
                    "execution_count": 136,
                    "metadata": {},
                    "output_type": "execute_result"
                }
            ],
            "source": "predict_price('Whitefield',2300,3,1,5)"
        },
        {
            "cell_type": "code",
            "execution_count": 137,
            "metadata": {},
            "outputs": [
                {
                    "data": {
                        "text/plain": "154.62856849831778"
                    },
                    "execution_count": 137,
                    "metadata": {},
                    "output_type": "execute_result"
                }
            ],
            "source": "predict_price('Hoodi',2300,3,1,5)"
        },
        {
            "cell_type": "markdown",
            "metadata": {},
            "source": "### clearly whitefield area has costly properties than Hoodi area "
        },
        {
            "cell_type": "code",
            "execution_count": 138,
            "metadata": {},
            "outputs": [
                {
                    "data": {
                        "text/plain": "184.0286356004383"
                    },
                    "execution_count": 138,
                    "metadata": {},
                    "output_type": "execute_result"
                }
            ],
            "source": "predict_price('Hoodi',2700,3,2,5)"
        },
        {
            "cell_type": "markdown",
            "metadata": {},
            "source": "### clearly if we increase the no of balconies (we need to add approxiamte area to total sqft also) , the predicted price for properties increases. "
        },
        {
            "cell_type": "markdown",
            "metadata": {},
            "source": "IMPORTING MODEL USING PICKLE FILE"
        },
        {
            "cell_type": "code",
            "execution_count": 139,
            "metadata": {},
            "outputs": [],
            "source": "import pickle\nwith open('Real_estate_price_predictor.pickle','wb') as f:\n    pickle.dump(ob,f)"
        },
        {
            "cell_type": "code",
            "execution_count": 140,
            "metadata": {},
            "outputs": [],
            "source": "import json\ncolumns={\n    'data_columns' : [col.lower() for col in X.columns]\n}\nwith open('columns.json','w') as f:\n    f.write(json.dumps(columns))"
        },
        {
            "cell_type": "code",
            "execution_count": null,
            "metadata": {},
            "outputs": [],
            "source": ""
        }
    ],
    "metadata": {
        "kernelspec": {
            "display_name": "Python 3.6",
            "language": "python",
            "name": "python3"
        },
        "language_info": {
            "codemirror_mode": {
                "name": "ipython",
                "version": 3
            },
            "file_extension": ".py",
            "mimetype": "text/x-python",
            "name": "python",
            "nbconvert_exporter": "python",
            "pygments_lexer": "ipython3",
            "version": "3.6.9"
        }
    },
    "nbformat": 4,
    "nbformat_minor": 1
}